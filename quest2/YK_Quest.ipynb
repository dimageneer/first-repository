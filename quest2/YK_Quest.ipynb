{
  "nbformat": 4,
  "nbformat_minor": 0,
  "metadata": {
    "colab": {
      "provenance": [],
      "toc_visible": true,
      "authorship_tag": "ABX9TyNrJVLhFG6YL2PEj3NS90hK",
      "include_colab_link": true
    },
    "kernelspec": {
      "name": "python3",
      "display_name": "Python 3"
    },
    "language_info": {
      "name": "python"
    }
  },
  "cells": [
    {
      "cell_type": "markdown",
      "metadata": {
        "id": "view-in-github",
        "colab_type": "text"
      },
      "source": [
        "<a href=\"https://colab.research.google.com/github/dimageneer/first-repository/blob/master/quest2/YK_Quest.ipynb\" target=\"_parent\"><img src=\"https://colab.research.google.com/assets/colab-badge.svg\" alt=\"Open In Colab\"/></a>"
      ]
    },
    {
      "cell_type": "markdown",
      "metadata": {
        "id": "e69a3df8"
      },
      "source": [
        "## 시작 인사하기\n",
        "\n",
        "### Subtask:\n",
        "프로그램이 시작되었음을 알리는 메시지를 출력합니다.\n"
      ]
    },
    {
      "cell_type": "markdown",
      "metadata": {
        "id": "4de0ac50"
      },
      "source": [
        "**Reasoning**:\n",
        "Print a welcome message to indicate the start of the program.\n",
        "\n"
      ]
    },
    {
      "cell_type": "code",
      "metadata": {
        "colab": {
          "base_uri": "https://localhost:8080/"
        },
        "id": "4834908c",
        "outputId": "3cd8ebf8-4b92-44b6-aefb-6024d523385a"
      },
      "source": [
        "print(\"안녕하세요! 계좌 만들기 프로그램입니다.\")"
      ],
      "execution_count": 7,
      "outputs": [
        {
          "output_type": "stream",
          "name": "stdout",
          "text": [
            "안녕하세요! 계좌 만들기 프로그램입니다.\n"
          ]
        }
      ]
    },
    {
      "cell_type": "markdown",
      "metadata": {
        "id": "9014acf8"
      },
      "source": [
        "## 이름 물어보고 기억하기\n",
        "\n",
        "### Subtask:\n",
        "사용자에게 이름을 물어보고 입력받은 이름을 변수에 저장합니다."
      ]
    },
    {
      "cell_type": "code",
      "metadata": {
        "colab": {
          "base_uri": "https://localhost:8080/"
        },
        "id": "812366a4",
        "outputId": "d86a6e4f-92b0-4e5c-cb08-03964153b147"
      },
      "source": [
        "import random\n",
        "\n",
        "# 사용자에게 이름을 물어보고 입력받은 이름을 'user_name' 이라는 상자에 저장해요.\n",
        "user_name = input(\"이름이 무엇인가요? \")\n",
        "\n",
        "# 잘 저장되었는지 확인해 볼까요? 저장된 이름을 화면에 보여줘요.\n",
        "print(\"안녕하세요, \" + user_name + \"님!\")\n",
        "\n",
        "# 우리만의 특별한 계좌 번호를 랜덤으로 정해봐요. 3자리-2자리-5자리 형식으로 만들 거예요.\n",
        "# 랜덤으로 3자리 숫자를 만들어요.\n",
        "part1 = random.randint(100, 999)\n",
        "# 랜덤으로 2자리 숫자를 만들어요.\n",
        "part2 = random.randint(10, 99)\n",
        "# 랜덤으로 5자리 숫자를 만들어요.\n",
        "part3 = random.randint(10000, 99999)\n",
        "\n",
        "# 세 부분을 합쳐서 계좌 번호를 완성해요. '-' 기호로 연결해 줄 거예요.\n",
        "account_number = f\"{part1}-{part2}-{part3}\"\n",
        "\n",
        "# 이제 만든 계좌 번호와 여러분의 이름을 함께 화면에 보여줘요!\n",
        "print(user_name + \"님의 계좌 번호는 [\" + account_number + \"] 입니다!\")"
      ],
      "execution_count": 12,
      "outputs": [
        {
          "output_type": "stream",
          "name": "stdout",
          "text": [
            "이름이 무엇인가요? 조연규\n",
            "안녕하세요, 조연규님!\n",
            "조연규님의 계좌 번호는 [376-75-67549] 입니다!\n"
          ]
        }
      ]
    },
    {
      "cell_type": "markdown",
      "metadata": {
        "id": "832ceaa9"
      },
      "source": [
        "## 계좌 만들기 완성!\n",
        "\n",
        "### Subtask:\n",
        "계좌 생성이 완료되었음을 알리는 메시지를 출력합니다."
      ]
    },
    {
      "cell_type": "markdown",
      "metadata": {
        "id": "edc3f0d7"
      },
      "source": [
        "**Reasoning**:\n",
        "We will print a message to the user confirming that their \"account\" has been created using the name they provided."
      ]
    },
    {
      "cell_type": "code",
      "metadata": {
        "colab": {
          "base_uri": "https://localhost:8080/"
        },
        "id": "7ffd2d01",
        "outputId": "815d52ba-7678-42dd-a2e6-4c292e0fcbb2"
      },
      "source": [
        "# 계좌 만들기가 끝났다는 것을 축하하는 메시지를 보여줘요!\n",
        "print(user_name + \"님의 가상 계좌 만들기가 완료되었습니다! 축하해요! 😊\")"
      ],
      "execution_count": 13,
      "outputs": [
        {
          "output_type": "stream",
          "name": "stdout",
          "text": [
            "조연규님의 가상 계좌 만들기가 완료되었습니다! 축하해요! 😊\n"
          ]
        }
      ]
    },
    {
      "cell_type": "markdown",
      "metadata": {
        "id": "9026c081"
      },
      "source": [
        "# Task\n",
        "사용자가 제공한 이미지 \"/content/quest-계좌만들기.png\"를 분석하여 텍스트 내용을 확인하고, 초등학교 3학년 학생에게 코딩을 가르치는 선생님의 입장에서 텍스트 순서대로 코드를 작성하고 설명합니다. 특히, 계좌 번호는 3-2-5 순서의 난수로 생성되도록 코드를 수정하고, 최소 1원 이상 입금 가능, 5회 입금 시 잔고의 1% 이자 지급, 입금 내역 기록 (이미지 오른쪽 하단 출력 예시 참고) 기능을 포함하는 입금 메서드를 구현합니다."
      ]
    },
    {
      "cell_type": "markdown",
      "metadata": {
        "id": "38479705"
      },
      "source": [
        "## 잔고 및 입금 횟수 변수 추가\n",
        "\n",
        "### Subtask:\n",
        "현재 잔고와 입금 횟수를 기록할 변수를 만듭니다. 입금 내역을 저장할 리스트도 추가합니다.\n"
      ]
    },
    {
      "cell_type": "markdown",
      "metadata": {
        "id": "56583b5b"
      },
      "source": [
        "**Reasoning**:\n",
        "We need to initialize variables to keep track of the account balance, the number of deposits, and a list to store transaction history as requested in the subtask instructions.\n",
        "\n"
      ]
    },
    {
      "cell_type": "markdown",
      "metadata": {
        "id": "e30af26c"
      },
      "source": [
        "## Account 클래스 정의\n",
        "\n",
        "### Subtask:\n",
        "계좌 정보를 관리할 `Account` 클래스를 정의합니다.\n"
      ]
    },
    {
      "cell_type": "markdown",
      "metadata": {
        "id": "5b394ba6"
      },
      "source": [
        "## 계좌 객체 생성\n",
        "\n",
        "### Subtask:\n",
        "`Account` 클래스로부터 계좌 객체를 생성합니다.\n"
      ]
    },
    {
      "cell_type": "code",
      "metadata": {
        "colab": {
          "base_uri": "https://localhost:8080/"
        },
        "id": "234f492a",
        "outputId": "794e8d43-5b50-4158-e90b-b273710577b6"
      },
      "source": [
        "# 이제 우리가 만든 Account 클래스를 사용해서 계좌를 만들어봐요!\n",
        "# 'user_name'이라는 이름으로 새로운 계좌를 만들고 그 계좌를 'my_account'라는 상자에 저장해요.\n",
        "# 'user_name'은 우리가 앞에서 물어봐서 저장해둔 여러분의 이름이에요!\n",
        "my_account = Account(user_name)\n",
        "\n",
        "# 계좌가 잘 만들어졌는지 확인해볼까요?\n",
        "# 계좌 주인 이름과 계좌 번호를 보여줘요.\n",
        "print(f\"와우! {my_account.name}님의 계좌 [{my_account.account_number}]가 멋지게 만들어졌어요!\")"
      ],
      "execution_count": 41,
      "outputs": [
        {
          "output_type": "stream",
          "name": "stdout",
          "text": [
            "짠! 조연규님의 계좌 [437-90-16943]가 만들어졌어요! 😊\n",
            "와우! 조연규님의 계좌 [437-90-16943]가 멋지게 만들어졌어요!\n"
          ]
        }
      ]
    },
    {
      "cell_type": "markdown",
      "metadata": {
        "id": "f7dc2c4b"
      },
      "source": [
        "## 계좌 기능 사용\n",
        "\n",
        "### Subtask:\n",
        "생성된 계좌 객체의 메서드(입금, 출금)를 호출하여 기능을 사용합니다.\n"
      ]
    },
    {
      "cell_type": "code",
      "metadata": {
        "colab": {
          "base_uri": "https://localhost:8080/"
        },
        "id": "5e5eb415",
        "outputId": "4d5497d1-7474-4aef-b8ac-d2c6b50ae1c5"
      },
      "source": [
        "# 이제 만든 계좌에 돈을 넣어볼까요?\n",
        "\n",
        "# 사용자에게 얼마를 입금할지 물어보고, 숫자로 입력받을 때까지 계속 물어볼 거예요.\n",
        "while True:\n",
        "    deposit_amount_str = input(\"얼마를 입금하시겠어요? 숫자로 입력해주세요: \")\n",
        "    try:\n",
        "        # 입력받은 글자를 숫자로 바꿔보세요.\n",
        "        deposit_amount = int(deposit_amount_str)\n",
        "        # 숫자로 잘 바뀌었으면 반복을 멈춰요.\n",
        "        break\n",
        "    except ValueError:\n",
        "        # 숫자로 바꾸지 못했으면 다시 입력해달라고 말해요.\n",
        "        print(\"앗! 숫자로만 입력해야 해요. 다시 입력해주세요.\")\n",
        "\n",
        "# 입력받은 금액을 가지고 'my_account' 계좌에 돈을 넣어달라고 부탁해요!\n",
        "my_account.deposit(deposit_amount)"
      ],
      "execution_count": 69,
      "outputs": [
        {
          "output_type": "stream",
          "name": "stdout",
          "text": [
            "얼마를 입금하시겠어요? 숫자로 입력해주세요: 20000\n",
            "20000원이 입금되었어요. 현재 잔고는 29175.2원이에요.\n"
          ]
        }
      ]
    },
    {
      "cell_type": "code",
      "metadata": {
        "colab": {
          "base_uri": "https://localhost:8080/"
        },
        "id": "058db34e",
        "outputId": "2e9a2f3a-2dbe-4f50-c0c1-b2b1d5aa6086"
      },
      "source": [
        "# 이제 계좌에서 돈을 좀 빼볼까요?\n",
        "\n",
        "# 사용자에게 얼마를 출금할지 물어보고, 숫자로 입력받을 때까지 계속 물어볼 거예요.\n",
        "while True:\n",
        "    withdraw_amount_str = input(\"얼마를 출금하시겠어요? 숫자로 입력해주세요: \")\n",
        "    try:\n",
        "        # 입력받은 글자를 숫자로 바꿔보세요.\n",
        "        withdraw_amount = int(withdraw_amount_str)\n",
        "        # 숫자로 잘 바뀌었으면 반복을 멈춰요.\n",
        "        break\n",
        "    except ValueError:\n",
        "        # 숫자로 바꾸지 못했으면 다시 입력해달라고 말해요.\n",
        "        print(\"앗! 숫자로만 입력해야 해요. 다시 입력해주세요.\")\n",
        "\n",
        "# 입력받은 금액을 가지고 'my_account' 계좌에서 돈을 빼달라고 부탁해요!\n",
        "my_account.withdraw(withdraw_amount)"
      ],
      "execution_count": 51,
      "outputs": [
        {
          "output_type": "stream",
          "name": "stdout",
          "text": [
            "얼마를 출금하시겠어요? 숫자로 입력해주세요: 300\n",
            "300원이 출금되었어요. 현재 잔고는 3215원이에요.\n"
          ]
        }
      ]
    },
    {
      "cell_type": "markdown",
      "metadata": {
        "id": "ccca8aab"
      },
      "source": [
        "## 계좌 기능 사용\n",
        "\n",
        "### Subtask:\n",
        "생성된 계좌 객체의 메서드(입금, 출금)를 호출하여 기능을 사용합니다."
      ]
    },
    {
      "cell_type": "code",
      "metadata": {
        "colab": {
          "base_uri": "https://localhost:8080/"
        },
        "id": "62ba5110",
        "outputId": "514c96e1-cd98-4830-8936-85f54a33fa0f"
      },
      "source": [
        "# 이제 계좌에서 돈을 좀 빼볼까요?\n",
        "\n",
        "# 사용자에게 얼마를 출금할지 물어보고, 숫자로 입력받을 때까지 계속 물어볼 거예요.\n",
        "while True:\n",
        "    withdraw_amount_str = input(\"얼마를 출금하시겠어요? 숫자로 입력해주세요: \")\n",
        "    try:\n",
        "        # 입력받은 글자를 숫자로 바꿔보세요.\n",
        "        withdraw_amount = int(withdraw_amount_str)\n",
        "        # 숫자로 잘 바뀌었으면 반복을 멈춰요.\n",
        "        break\n",
        "    except ValueError:\n",
        "        # 숫자로 바꾸지 못했으면 다시 입력해달라고 말해요.\n",
        "        print(\"앗! 숫자로만 입력해야 해요. 다시 입력해주세요.\")\n",
        "\n",
        "# 입력받은 금액을 가지고 'my_account' 계좌에서 돈을 빼달라고 부탁해요!\n",
        "my_account.withdraw(withdraw_amount)"
      ],
      "execution_count": 55,
      "outputs": [
        {
          "output_type": "stream",
          "name": "stdout",
          "text": [
            "얼마를 출금하시겠어요? 숫자로 입력해주세요: 200\n",
            "200원이 출금되었어요. 현재 잔고는 3020원이에요.\n"
          ]
        }
      ]
    },
    {
      "cell_type": "markdown",
      "metadata": {
        "id": "5c9c7b97"
      },
      "source": [
        "## 계좌 기능 사용\n",
        "\n",
        "### Subtask:\n",
        "생성된 계좌 객체의 메서드(입금, 출금)를 호출하여 기능을 사용합니다."
      ]
    },
    {
      "cell_type": "code",
      "metadata": {
        "colab": {
          "base_uri": "https://localhost:8080/"
        },
        "id": "b19ca1ee",
        "outputId": "9e833924-05db-430c-8313-296f35ed4bc5"
      },
      "source": [
        "# 이제 만든 계좌에 돈을 넣어볼까요?\n",
        "\n",
        "# 사용자에게 얼마를 입금할지 물어보고, 숫자로 입력받을 때까지 계속 물어볼 거예요.\n",
        "while True:\n",
        "    deposit_amount_str = input(\"얼마를 입금하시겠어요? 숫자로 입력해주세요: \")\n",
        "    try:\n",
        "        # 입력받은 글자를 숫자로 바꿔보세요.\n",
        "        deposit_amount = int(deposit_amount_str)\n",
        "        # 숫자로 잘 바뀌었으면 반복을 멈춰요.\n",
        "        break\n",
        "    except ValueError:\n",
        "        # 숫자로 바꾸지 못했으면 다시 입력해달라고 말해요.\n",
        "        print(\"앗! 숫자로만 입력해야 해요. 다시 입력해주세요.\")\n",
        "\n",
        "# 입력받은 금액을 가지고 'my_account' 계좌에 돈을 넣어달라고 부탁해요!\n",
        "my_account.deposit(deposit_amount)"
      ],
      "execution_count": 63,
      "outputs": [
        {
          "output_type": "stream",
          "name": "stdout",
          "text": [
            "얼마를 입금하시겠어요? 숫자로 입력해주세요: 3600\n",
            "3600원이 입금되었어요. 현재 잔고는 9175.2원이에요.\n"
          ]
        }
      ]
    },
    {
      "cell_type": "markdown",
      "metadata": {
        "id": "bfc5f579"
      },
      "source": [
        "## 계좌 객체 생성\n",
        "\n",
        "### Subtask:\n",
        "`Account` 클래스로부터 계좌 객체를 생성합니다."
      ]
    },
    {
      "cell_type": "markdown",
      "metadata": {
        "id": "592ef440"
      },
      "source": [
        "**Reasoning**:\n",
        "Use the previously defined `Account` class to create a new account object with the user's name."
      ]
    },
    {
      "cell_type": "code",
      "metadata": {
        "colab": {
          "base_uri": "https://localhost:8080/"
        },
        "id": "5c481f9f",
        "outputId": "bd0990a0-9cc0-4c67-b169-ef46b0a23865"
      },
      "source": [
        "# 이제 우리가 만든 Account 클래스를 사용해서 계좌를 만들어봐요!\n",
        "# 'user_name'이라는 이름으로 새로운 계좌를 만들고 그 계좌를 'my_account'라는 상자에 저장해요.\n",
        "# 'user_name'은 우리가 앞에서 물어봐서 저장해둔 여러분의 이름이에요!\n",
        "my_account = Account(user_name)\n",
        "\n",
        "# 계좌가 잘 만들어졌는지 확인해볼까요?\n",
        "# 계좌 주인 이름과 계좌 번호를 보여줘요.\n",
        "print(f\"와우! {my_account.name}님의 계좌 [{my_account.account_number}]가 멋지게 만들어졌어요!\")"
      ],
      "execution_count": 53,
      "outputs": [
        {
          "output_type": "stream",
          "name": "stdout",
          "text": [
            "짠! 조연규님의 계좌 [880-78-63625]가 만들어졌어요! 😊\n",
            "와우! 조연규님의 계좌 [880-78-63625]가 멋지게 만들어졌어요!\n"
          ]
        }
      ]
    },
    {
      "cell_type": "markdown",
      "metadata": {
        "id": "299616e0"
      },
      "source": [
        "## Account 클래스 정의\n",
        "\n",
        "### Subtask:\n",
        "계좌 정보를 관리할 `Account` 클래스를 정의합니다."
      ]
    },
    {
      "cell_type": "code",
      "metadata": {
        "id": "3d74292f"
      },
      "source": [
        "import random\n",
        "\n",
        "class Account:\n",
        "    # 우리가 만든 계좌가 몇 개인지 셀 상자를 만들고 0으로 시작해요.\n",
        "    account_count = 0\n",
        "\n",
        "    # 새로운 계좌를 만들 때 필요한 것들을 정하는 함수(메서드)를 만들어요.\n",
        "    def __init__(self, name, initial_balance=0):\n",
        "        # 계좌 주인의 이름을 저장해요.\n",
        "        self.name = name\n",
        "        # 계좌의 잔고를 저장하고 처음에는 0으로 시작하거나 정해진 금액으로 시작해요.\n",
        "        self.balance = initial_balance\n",
        "        # 돈을 몇 번 넣었는지 셀 상자를 만들고 0으로 시작해요.\n",
        "        self.deposit_count = 0\n",
        "        # 돈을 넣거나 뺀 기록을 저장할 빈 상자 목록을 만들어요.\n",
        "        self.transaction_history = []\n",
        "\n",
        "        # 우리만의 특별한 계좌 번호를 랜덤으로 정해봐요. 3자리-2자리-5자리 형식으로 만들 거예요.\n",
        "        part1 = random.randint(100, 999)\n",
        "        part2 = random.randint(10, 99)\n",
        "        part3 = random.randint(10000, 99999)\n",
        "        self.account_number = f\"{part1}-{part2}-{part3}\"\n",
        "\n",
        "        # 새로운 계좌를 만들 때마다 계좌 개수를 세는 상자에 1을 더해요.\n",
        "        Account.account_count += 1\n",
        "\n",
        "        print(f\"짠! {self.name}님의 계좌 [{self.account_number}]가 만들어졌어요! 😊\")\n",
        "\n",
        "    # 돈을 넣는 함수(메서드)를 만들어요. 얼마를 넣을지 'amount'라는 이름으로 받을 거예요.\n",
        "    def deposit(self, amount):\n",
        "        # 돈을 넣으려는 금액이 1원보다 적으면 안 돼요!\n",
        "        if amount < 1:\n",
        "            print(\"앗! 1원 이상부터 입금할 수 있어요.\")\n",
        "            return # 여기서 끝내요.\n",
        "\n",
        "        # 잔고에 돈을 더해요.\n",
        "        self.balance += amount\n",
        "        # 입금 횟수를 1 늘려요.\n",
        "        self.deposit_count += 1\n",
        "        # 거래 내역에 \"몇 회차, 입금, 금액, 현재 잔액\" 순서로 기록해요.\n",
        "        self.transaction_history.append(f\"{self.deposit_count}회차, 입금, {amount}원, 잔액: {self.balance}원\")\n",
        "        print(f\"{amount}원이 입금되었어요. 현재 잔고는 {self.balance}원이에요.\")\n",
        "\n",
        "        # 만약 입금 횟수가 5의 배수이면 (5번, 10번, 15번... 입금했을 때)\n",
        "        if self.deposit_count % 5 == 0:\n",
        "            # 잔고의 1% 만큼 이자를 계산해요.\n",
        "            interest = self.balance * 0.01\n",
        "            # 이자를 잔고에 더해요.\n",
        "            self.balance += interest\n",
        "            # 거래 내역에 \"몇 회차, 이자, 금액, 현재 잔액\" 순서로 기록해요.\n",
        "            self.transaction_history.append(f\"{self.deposit_count}회차, 이자, {interest:.0f}원, 잔액: {self.balance:.0f}원\")\n",
        "            print(f\"축하해요! 5번째 입금 기념으로 이자 {interest:.0f}원이 지급되었어요! 현재 잔고는 {self.balance:.0f}원이에요.\")\n",
        "\n",
        "\n",
        "    # 돈을 빼는 함수(메서드)를 만들어요. 얼마를 뺄지 'amount'라는 이름으로 받을 거예요.\n",
        "    def withdraw(self, amount):\n",
        "        # 돈을 빼려는 금액이 잔고보다 많으면 안 돼요!\n",
        "        if amount > self.balance:\n",
        "            print(\"앗! 잔고가 부족해서 돈을 뺄 수 없어요.\")\n",
        "            return # 여기서 끝내요.\n",
        "\n",
        "        # 잔고에서 돈을 빼요.\n",
        "        self.balance -= amount\n",
        "        # 거래 내역에 \"몇 회차, 출금, 금액, 현재 잔액\" 순서로 기록해요. 입금 횟수를 그대로 사용해요.\n",
        "        self.transaction_history.append(f\"{self.deposit_count}회차, 출금, {amount}원, 잔액: {self.balance}원\")\n",
        "        print(f\"{amount}원이 출금되었어요. 현재 잔고는 {self.balance}원이에요.\")\n",
        "\n",
        "    # 거래 내역을 보여주는 함수(메서드)를 만들어요.\n",
        "    def show_history(self):\n",
        "        print(f\"[{self.name}]님의 계좌 거래 내역:\")\n",
        "        # 저장된 거래 내역을 하나씩 꺼내서 화면에 보여줘요.\n",
        "        for record in self.transaction_history:\n",
        "            print(record)\n",
        "\n",
        "# 이제 우리가 만든 Account 클래스를 사용해서 계좌를 만들어봐요!\n",
        "# 예를 들어 '라이언'이라는 이름으로 계좌를 만들고 처음 잔고는 1000원으로 시작해요.\n",
        "# ryan_account = Account(\"라이언\", 1000)\n",
        "\n",
        "# # 돈을 몇 번 넣어볼까요?\n",
        "# ryan_account.deposit(500)\n",
        "# ryan_account.deposit(200)\n",
        "# ryan_account.deposit(300)\n",
        "# ryan_account.deposit(100)\n",
        "# ryan_account.deposit(400) # 5번째 입금이라 이자가 붙을 거예요!\n",
        "\n",
        "# # 돈을 좀 빼볼까요?\n",
        "# ryan_account.withdraw(200)\n",
        "\n",
        "# # 거래 내역을 확인해봐요!\n",
        "# ryan_account.show_history()\n",
        "\n",
        "# # 계좌가 몇 개 만들어졌는지 확인해 볼까요?\n",
        "# print(f\"총 만들어진 계좌 개수: {Account.account_count}개\")"
      ],
      "execution_count": 57,
      "outputs": []
    },
    {
      "cell_type": "markdown",
      "metadata": {
        "id": "c50b0fa8"
      },
      "source": [
        "## 계좌 개수 확인\n",
        "\n",
        "### Subtask:\n",
        "클래스 변수를 통해 생성된 계좌 객체의 총 개수를 출력합니다.\n"
      ]
    },
    {
      "cell_type": "code",
      "metadata": {
        "colab": {
          "base_uri": "https://localhost:8080/"
        },
        "id": "128425b8",
        "outputId": "90e2a2e2-2eb7-4439-d8a9-48e509268ce0"
      },
      "source": [
        "# Account 클래스 안에 있는 'account_count'라는 특별한 상자의 값을 화면에 보여줘요.\n",
        "# 이 상자에는 우리가 만든 계좌가 총 몇 개인지 숫자로 세어져 있어요.\n",
        "print(f\"총 만들어진 계좌 개수: {Account.account_count}개\")"
      ],
      "execution_count": 75,
      "outputs": [
        {
          "output_type": "stream",
          "name": "stdout",
          "text": [
            "총 만들어진 계좌 개수: 0개\n"
          ]
        }
      ]
    },
    {
      "cell_type": "markdown",
      "metadata": {
        "id": "ec1006d3"
      },
      "source": [
        "## 거래 내역 출력\n",
        "\n",
        "### Subtask:\n",
        "특정 계좌 객체의 거래 내역을 출력합니다."
      ]
    },
    {
      "cell_type": "code",
      "metadata": {
        "colab": {
          "base_uri": "https://localhost:8080/"
        },
        "id": "fd9044a5",
        "outputId": "8a4eee8f-e877-40e9-881c-fc78ca950eea"
      },
      "source": [
        "# 이제 우리가 돈을 넣고 뺀 기록을 확인해볼 차례예요!\n",
        "# 'my_account' 계좌에게 그동안의 거래 내역을 보여달라고 부탁해요.\n",
        "my_account.show_history()"
      ],
      "execution_count": 74,
      "outputs": [
        {
          "output_type": "stream",
          "name": "stdout",
          "text": [
            "[조연규]님의 계좌 거래 내역:\n",
            "1회차, 입금, 3220원, 잔액: 3220원\n",
            "1회차, 출금, 200원, 잔액: 3020원\n",
            "2회차, 입금, 600원, 잔액: 3620원\n",
            "3회차, 입금, 500원, 잔액: 4120원\n",
            "4회차, 입금, 600원, 잔액: 4720원\n",
            "5회차, 입금, 800원, 잔액: 5520원\n",
            "5회차, 이자, 55원, 잔액: 5575원\n",
            "6회차, 입금, 3600원, 잔액: 9175.2원\n",
            "7회차, 입금, 20000원, 잔액: 29175.2원\n"
          ]
        }
      ]
    },
    {
      "cell_type": "markdown",
      "metadata": {
        "id": "fd2935a8"
      },
      "source": [
        "## 요약:\n",
        "\n",
        "### 데이터 분석 핵심 결과\n",
        "\n",
        "*   이름, 잔고, 입금 횟수, 거래 내역, 무작위로 생성된 3-2-5 형식의 계좌 번호를 포함하는 속성을 가진 Python `Account` 클래스를 성공적으로 만들었습니다.\n",
        "*   클래스 변수 `account_count`를 구현하여 생성된 `Account` 객체의 총 개수를 정확하게 추적합니다.\n",
        "*   `deposit` 메서드는 입금을 올바르게 처리하고, 최소 입금액 1원을 적용하며, 5번째 입금마다 현재 잔고 기준으로 1%의 이자를 적용합니다.\n",
        "*   `withdraw` 메서드는 출금을 올바르게 처리하고, 잔고 부족으로 인한 출금 실패를 방지합니다.\n",
        "*   `deposit` 및 `withdraw` 메서드 모두 거래 내역을 \"회차, 입금 또는 출금, 금액, 잔액\" 형식으로 `transaction_history` 목록에 올바르게 기록합니다.\n",
        "*   `show_history` 메서드는 기록된 거래 내역을 성공적으로 표시합니다.\n",
        "*   프로그램은 `Account` 객체를 생성하고, 사용자 입력에 따라 입금 및 출금 작업을 수행하고, 거래 내역과 총 계좌 개수를 표시하는 것을 성공적으로 시연했습니다.\n",
        "\n",
        "### 통찰 또는 다음 단계\n",
        "\n",
        "*   계좌 생성 시 사용자 이름에 대한 입력 유효성 검사를 추가하는 것을 고려할 수 있습니다.\n",
        "*   입금/출금 금액에 대한 비정수 입력과 같은 잠재적 문제에 대한 오류 처리를 프로세스 초기에 구현합니다."
      ]
    }
  ]
}