{
  "nbformat": 4,
  "nbformat_minor": 0,
  "metadata": {
    "colab": {
      "provenance": [],
      "authorship_tag": "ABX9TyNCXP2Q7n48jf65de6EFEHr",
      "include_colab_link": true
    },
    "kernelspec": {
      "name": "python3",
      "display_name": "Python 3"
    },
    "language_info": {
      "name": "python"
    }
  },
  "cells": [
    {
      "cell_type": "markdown",
      "metadata": {
        "id": "view-in-github",
        "colab_type": "text"
      },
      "source": [
        "<a href=\"https://colab.research.google.com/github/dimageneer/first-repository/blob/master/Quesr/quest10922.ipynb\" target=\"_parent\"><img src=\"https://colab.research.google.com/assets/colab-badge.svg\" alt=\"Open In Colab\"/></a>"
      ]
    },
    {
      "cell_type": "code",
      "source": [
        "print(\"숫자 야구를 시작합니다\")"
      ],
      "metadata": {
        "colab": {
          "base_uri": "https://localhost:8080/"
        },
        "id": "yJLUqOdgFH-2",
        "outputId": "637dc051-8f52-4944-f70a-fb8166b21c42"
      },
      "execution_count": 26,
      "outputs": [
        {
          "output_type": "stream",
          "name": "stdout",
          "text": [
            "숫자 야구를 시작합니다\n"
          ]
        }
      ]
    },
    {
      "cell_type": "code",
      "source": [
        "answer = [3,9,2,7,6]\n",
        "print(\"컴퓨터가 생각하는 숫자:\", answer)"
      ],
      "metadata": {
        "colab": {
          "base_uri": "https://localhost:8080/"
        },
        "id": "xYjjTAD4FbTO",
        "outputId": "9ac14758-b881-4f01-889d-746ba49acf47"
      },
      "execution_count": 27,
      "outputs": [
        {
          "output_type": "stream",
          "name": "stdout",
          "text": [
            "컴퓨터가 생각하는 숫자: [3, 9, 2, 7, 6]\n"
          ]
        }
      ]
    },
    {
      "cell_type": "code",
      "source": [
        "user_guess = [4,7,2,0,9]\n",
        "print(\"사용자가 입력한 숫자:\", answer )"
      ],
      "metadata": {
        "colab": {
          "base_uri": "https://localhost:8080/"
        },
        "id": "joUXi_-9Gml-",
        "outputId": "285b6f9e-50c2-4c0d-bc76-6e65fd83866d"
      },
      "execution_count": 28,
      "outputs": [
        {
          "output_type": "stream",
          "name": "stdout",
          "text": [
            "사용자가 입력한 숫자: [3, 9, 2, 7, 6]\n"
          ]
        }
      ]
    },
    {
      "cell_type": "code",
      "source": [
        "# Strike와 Ball을 세어보기\n",
        "strike = 0\n",
        "ball = 0\n",
        "\n",
        "for i in range(5):\n",
        "    if user_guess[i] == answer[i]:\n",
        "        strike = strike + 1\n",
        "        print(f\"{i+1}번째 자리: {user_guess[i]} = {answer[i]} → Strike!\")\n",
        "\n",
        "print(f\"결과: {strike} Strike, {ball} Ball\")"
      ],
      "metadata": {
        "colab": {
          "base_uri": "https://localhost:8080/"
        },
        "id": "iGVeF-2wIcYn",
        "outputId": "4a6ee646-2a3d-4b67-bdeb-41ba82e893ca"
      },
      "execution_count": 29,
      "outputs": [
        {
          "output_type": "stream",
          "name": "stdout",
          "text": [
            "3번째 자리: 2 = 2 → Strike!\n",
            "결과: 1 Strike, 0 Ball\n"
          ]
        }
      ]
    },
    {
      "cell_type": "code",
      "source": [
        "import random\n",
        "numbers = [1,2,3,4,5,6,7,8,9]\n",
        "answer = random.sample(numbers, 5)\n",
        "print(\"컴퓨터가 생성한 5개 숫자:\", answer)"
      ],
      "metadata": {
        "colab": {
          "base_uri": "https://localhost:8080/"
        },
        "id": "wWVU41tWK1_3",
        "outputId": "cea8918d-a98f-47cf-e8ad-3f6afd38616e"
      },
      "execution_count": 34,
      "outputs": [
        {
          "output_type": "stream",
          "name": "stdout",
          "text": [
            "컴퓨터가 생성한 5개 숫자: [6, 7, 4, 2, 9]\n"
          ]
        }
      ]
    },
    {
      "cell_type": "code",
      "source": [
        "user_input=input(\"다섯개 숫자를 입력하세요(예:12345):\")"
      ],
      "metadata": {
        "colab": {
          "base_uri": "https://localhost:8080/"
        },
        "id": "4kw_9dhDNSOg",
        "outputId": "e2ed79db-5594-4e5d-fdbd-2364cee5206b"
      },
      "execution_count": 36,
      "outputs": [
        {
          "name": "stdout",
          "output_type": "stream",
          "text": [
            "다섯개 숫자를 입력하세요(예:12345):62897\n"
          ]
        }
      ]
    },
    {
      "cell_type": "code",
      "source": [
        "# Strike 계산하기 (for문 사용)\n",
        "strike = 0\n",
        "\n",
        "for i in range(5):  # i가 0, 1, 2, 3, 4로 차례대로 바뀜\n",
        "    print(f\"{i+1}번째 자리 확인: {answer[i]} vs {user_guess[i]}\")\n",
        "    if answer[i] == user_guess[i]:\n",
        "        strike = strike + 1\n",
        "        print(\"   → Strike!\")\n",
        "\n",
        "print(\"총 Strike 개수:\", strike)"
      ],
      "metadata": {
        "colab": {
          "base_uri": "https://localhost:8080/"
        },
        "id": "Edm8-aBcNpvc",
        "outputId": "36177052-a051-4988-eb17-0d7a04e2281c"
      },
      "execution_count": 37,
      "outputs": [
        {
          "output_type": "stream",
          "name": "stdout",
          "text": [
            "1번째 자리 확인: 6 vs 4\n",
            "2번째 자리 확인: 7 vs 7\n",
            "   → Strike!\n",
            "3번째 자리 확인: 4 vs 2\n",
            "4번째 자리 확인: 2 vs 0\n",
            "5번째 자리 확인: 9 vs 9\n",
            "   → Strike!\n",
            "총 Strike 개수: 2\n"
          ]
        }
      ]
    },
    {
      "cell_type": "code",
      "source": [
        "# 예시 데이터\n",
        "answer = [3, 9, 2, 7, 6]      # 컴퓨터 정답\n",
        "user_guess = [4, 7, 2, 0, 9]  # 사용자 입력\n",
        "\n",
        "# Strike 계산 (간단하게)\n",
        "strike = 0\n",
        "for i in range(5):\n",
        "    if answer[i] == user_guess[i]:\n",
        "        strike = strike + 1\n",
        "\n",
        "# Ball 계산 (간단하게)\n",
        "ball = 0\n",
        "for i in range(5):\n",
        "    if answer[i] != user_guess[i]:  # Strike가 아니면\n",
        "        if user_guess[i] in answer:  # 숫자가 정답에 있나?\n",
        "            ball = ball + 1\n",
        "\n",
        "# 결과만 출력\n",
        "print(f\">>> {strike} strike {ball} ball\")\n"
      ],
      "metadata": {
        "colab": {
          "base_uri": "https://localhost:8080/"
        },
        "id": "VjHur4UGO8R0",
        "outputId": "9ccb1eea-b7b8-4374-a38e-99e1de54505e"
      },
      "execution_count": 38,
      "outputs": [
        {
          "output_type": "stream",
          "name": "stdout",
          "text": [
            ">>> 1 strike 2 ball\n"
          ]
        }
      ]
    },
    {
      "cell_type": "code",
      "source": [
        "import random\n",
        "\n",
        "# 1단계: 컴퓨터가 정답 생성\n",
        "numbers = [1, 2, 3, 4, 5, 6, 7, 8, 9]\n",
        "answer = random.sample(numbers, 5)\n",
        "\n",
        "print(\"=== 숫자야구 게임 시작! ===\")\n",
        "print(\"1~9 중에서 서로 다른 5개 숫자를 맞춰보세요!\")\n",
        "print(\"(힌트 - 정답):\", answer)  # 연습용으로 정답 보여주기\n",
        "print()\n",
        "\n",
        "# 게임 횟수 세기\n",
        "game_count = 0\n",
        "\n",
        "# 무한 반복 게임 시작\n",
        "while True:\n",
        "    game_count += 1\n",
        "    print(f\"--- {game_count}번째 시도 ---\")\n",
        "\n",
        "    # 2단계: 사용자 입력 받기\n",
        "    user_input = input(\"5자리 숫자를 입력하세요 (예: 12345): \")\n",
        "\n",
        "    # 입력값을 숫자 리스트로 변환\n",
        "    user_guess = []\n",
        "    for digit in user_input:\n",
        "        user_guess.append(int(digit))\n",
        "\n",
        "    print(f\"입력한 숫자: {user_guess}\")\n",
        "\n",
        "    # 3단계: Strike와 Ball 계산\n",
        "    strike = 0\n",
        "    ball = 0\n",
        "\n",
        "    for i in range(5):\n",
        "        if answer[i] == user_guess[i]:\n",
        "            strike += 1\n",
        "        elif user_guess[i] in answer:\n",
        "            ball += 1\n",
        "\n",
        "    # 4단계: 결과 출력\n",
        "    print(f\">>> {strike} strike {ball} ball\")\n",
        "\n",
        "    # 5단계: 게임 종료 조건\n",
        "    if strike == 5:\n",
        "        print(\"🎉 축하합니다! 정답을 맞췄습니다!\")\n",
        "        break\n",
        "\n",
        "    print()  # 한 줄 띄우기\n",
        "\n",
        "print(\"게임 종료!\")\n"
      ],
      "metadata": {
        "colab": {
          "base_uri": "https://localhost:8080/"
        },
        "id": "qvalRuApQWpV",
        "outputId": "23c52963-4b08-4501-b5f3-a6faa9fdc595"
      },
      "execution_count": null,
      "outputs": [
        {
          "output_type": "stream",
          "name": "stdout",
          "text": [
            "=== 숫자야구 게임 시작! ===\n",
            "1~9 중에서 서로 다른 5개 숫자를 맞춰보세요!\n",
            "(힌트 - 정답): [9, 3, 5, 1, 6]\n",
            "\n",
            "--- 1번째 시도 ---\n",
            "5자리 숫자를 입력하세요 (예: 12345): 68953\n",
            "입력한 숫자: [6, 8, 9, 5, 3]\n",
            ">>> 0 strike 4 ball\n",
            "\n",
            "--- 2번째 시도 ---\n",
            "5자리 숫자를 입력하세요 (예: 12345): 73461\n",
            "입력한 숫자: [7, 3, 4, 6, 1]\n",
            ">>> 1 strike 2 ball\n",
            "\n",
            "--- 3번째 시도 ---\n",
            "5자리 숫자를 입력하세요 (예: 12345): 85462\n",
            "입력한 숫자: [8, 5, 4, 6, 2]\n",
            ">>> 0 strike 2 ball\n",
            "\n",
            "--- 4번째 시도 ---\n",
            "5자리 숫자를 입력하세요 (예: 12345): 89135\n",
            "입력한 숫자: [8, 9, 1, 3, 5]\n",
            ">>> 0 strike 4 ball\n",
            "\n",
            "--- 5번째 시도 ---\n"
          ]
        }
      ]
    }
  ]
}