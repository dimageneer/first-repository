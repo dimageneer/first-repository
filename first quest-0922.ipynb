{
  "nbformat": 4,
  "nbformat_minor": 0,
  "metadata": {
    "colab": {
      "provenance": [],
      "authorship_tag": "ABX9TyNCXP2Q7n48jf65de6EFEHr",
      "include_colab_link": true
    },
    "kernelspec": {
      "name": "python3",
      "display_name": "Python 3"
    },
    "language_info": {
      "name": "python"
    }
  },
  "cells": [
    {
      "cell_type": "markdown",
      "metadata": {
        "id": "view-in-github",
        "colab_type": "text"
      },
      "source": [
        "<a href=\"https://colab.research.google.com/github/dimageneer/first-repository/blob/master/first%20quest-0922.ipynb\" target=\"_parent\"><img src=\"https://colab.research.google.com/assets/colab-badge.svg\" alt=\"Open In Colab\"/></a>"
      ]
    },
    {
      "cell_type": "code",
      "source": [
        "print(\"숫자 야구를 시작합니다\")"
      ],
      "metadata": {
        "colab": {
          "base_uri": "https://localhost:8080/"
        },
        "id": "yJLUqOdgFH-2",
        "outputId": "637dc051-8f52-4944-f70a-fb8166b21c42"
      },
      "execution_count": 26,
      "outputs": [
        {
          "output_type": "stream",
          "name": "stdout",
          "text": [
            "숫자 야구를 시작합니다\n"
          ]
        }
      ]
    },
    {
      "cell_type": "code",
      "source": [
        "answer = [3,9,2,7,6]\n",
        "print(\"컴퓨터가 생각하는 숫자:\", answer)"
      ],
      "metadata": {
        "colab": {
          "base_uri": "https://localhost:8080/"
        },
        "id": "xYjjTAD4FbTO",
        "outputId": "9ac14758-b881-4f01-889d-746ba49acf47"
      },
      "execution_count": 27,
      "outputs": [
        {
          "output_type": "stream",
          "name": "stdout",
          "text": [
            "컴퓨터가 생각하는 숫자: [3, 9, 2, 7, 6]\n"
          ]
        }
      ]
    },
    {
      "cell_type": "code",
      "source": [
        "user_guess = [4,7,2,0,9]\n",
        "print(\"사용자가 입력한 숫자:\", answer )"
      ],
      "metadata": {
        "colab": {
          "base_uri": "https://localhost:8080/"
        },
        "id": "joUXi_-9Gml-",
        "outputId": "285b6f9e-50c2-4c0d-bc76-6e65fd83866d"
      },
      "execution_count": 28,
      "outputs": [
        {
          "output_type": "stream",
          "name": "stdout",
          "text": [
            "사용자가 입력한 숫자: [3, 9, 2, 7, 6]\n"
          ]
        }
      ]
    },
    {
      "cell_type": "code",
      "source": [
        "# Strike와 Ball을 세어보기\n",
        "strike = 0\n",
        "ball = 0\n",
        "\n",
        "for i in range(5):\n",
        "    if user_guess[i] == answer[i]:\n",
        "        strike = strike + 1\n",
        "        print(f\"{i+1}번째 자리: {user_guess[i]} = {answer[i]} → Strike!\")\n",
        "\n",
        "print(f\"결과: {strike} Strike, {ball} Ball\")"
      ],
      "metadata": {
        "colab": {
          "base_uri": "https://localhost:8080/"
        },
        "id": "iGVeF-2wIcYn",
        "outputId": "4a6ee646-2a3d-4b67-bdeb-41ba82e893ca"
      },
      "execution_count": 29,
      "outputs": [
        {
          "output_type": "stream",
          "name": "stdout",
          "text": [
            "3번째 자리: 2 = 2 → Strike!\n",
            "결과: 1 Strike, 0 Ball\n"
          ]
        }
      ]
    },
    {
      "cell_type": "code",
      "source": [
        "import random\n",
        "numbers = [1,2,3,4,5,6,7,8,9]\n",
        "answer = random.sample(numbers, 5)\n",
        "print(\"컴퓨터가 생성한 5개 숫자:\", answer)"
      ],
      "metadata": {
        "colab": {
          "base_uri": "https://localhost:8080/"
        },
        "id": "wWVU41tWK1_3",
        "outputId": "cea8918d-a98f-47cf-e8ad-3f6afd38616e"
      },
      "execution_count": 34,
      "outputs": [
        {
          "output_type": "stream",
          "name": "stdout",
          "text": [
            "컴퓨터가 생성한 5개 숫자: [6, 7, 4, 2, 9]\n"
          ]
        }
      ]
    },
    {
      "cell_type": "code",
      "source": [
        "user_input=input(\"다섯개 숫자를 입력하세요(예:12345):\")"
      ],
      "metadata": {
        "colab": {
          "base_uri": "https://localhost:8080/"
        },
        "id": "4kw_9dhDNSOg",
        "outputId": "e2ed79db-5594-4e5d-fdbd-2364cee5206b"
      },
      "execution_count": 36,
      "outputs": [
        {
          "name": "stdout",
          "output_type": "stream",
          "text": [
            "다섯개 숫자를 입력하세요(예:12345):62897\n"
          ]
        }
      ]
    },
    {
      "cell_type": "code",
      "source": [
        "# Strike 계산하기 (for문 사용)\n",
        "strike = 0\n",
        "\n",
        "for i in range(5):  # i가 0, 1, 2, 3, 4로 차례대로 바뀜\n",
        "    print(f\"{i+1}번째 자리 확인: {answer[i]} vs {user_guess[i]}\")\n",
        "    if answer[i] == user_guess[i]:\n",
        "        strike = strike + 1\n",
        "        print(\"   → Strike!\")\n",
        "\n",
        "print(\"총 Strike 개수:\", strike)"
      ],
      "metadata": {
        "colab": {
          "base_uri": "https://localhost:8080/"
        },
        "id": "Edm8-aBcNpvc",
        "outputId": "36177052-a051-4988-eb17-0d7a04e2281c"
      },
      "execution_count": 37,
      "outputs": [
        {
          "output_type": "stream",
          "name": "stdout",
          "text": [
            "1번째 자리 확인: 6 vs 4\n",
            "2번째 자리 확인: 7 vs 7\n",
            "   → Strike!\n",
            "3번째 자리 확인: 4 vs 2\n",
            "4번째 자리 확인: 2 vs 0\n",
            "5번째 자리 확인: 9 vs 9\n",
            "   → Strike!\n",
            "총 Strike 개수: 2\n"
          ]
        }
      ]
    },
    {
      "cell_type": "code",
      "source": [
        "# 예시 데이터\n",
        "answer = [3, 9, 2, 7, 6]      # 컴퓨터 정답\n",
        "user_guess = [4, 7, 2, 0, 9]  # 사용자 입력\n",
        "\n",
        "# Strike 계산 (간단하게)\n",
        "strike = 0\n",
        "for i in range(5):\n",
        "    if answer[i] == user_guess[i]:\n",
        "        strike = strike + 1\n",
        "\n",
        "# Ball 계산 (간단하게)\n",
        "ball = 0\n",
        "for i in range(5):\n",
        "    if answer[i] != user_guess[i]:  # Strike가 아니면\n",
        "        if user_guess[i] in answer:  # 숫자가 정답에 있나?\n",
        "            ball = ball + 1\n",
        "\n",
        "# 결과만 출력\n",
        "print(f\">>> {strike} strike {ball} ball\")\n"
      ],
      "metadata": {
        "colab": {
          "base_uri": "https://localhost:8080/"
        },
        "id": "VjHur4UGO8R0",
        "outputId": "9ccb1eea-b7b8-4374-a38e-99e1de54505e"
      },
      "execution_count": 38,
      "outputs": [
        {
          "output_type": "stream",
          "name": "stdout",
          "text": [
            ">>> 1 strike 2 ball\n"
          ]
        }
      ]
    },
    {
      "cell_type": "code",
      "source": [
        "import random\n",
        "\n",
        "# 1단계: 컴퓨터가 정답 생성\n",
        "numbers = [1, 2, 3, 4, 5, 6, 7, 8, 9]\n",
        "answer = random.sample(numbers, 5)\n",
        "\n",
        "print(\"=== 숫자야구 게임 시작! ===\")\n",
        "print(\"1~9 중에서 서로 다른 5개 숫자를 맞춰보세요!\")\n",
        "print(\"(힌트 - 정답):\", answer)  # 연습용으로 정답 보여주기\n",
        "print()\n",
        "\n",
        "# 게임 횟수 세기\n",
        "game_count = 0\n",
        "\n",
        "# 무한 반복 게임 시작\n",
        "while True:\n",
        "    game_count += 1\n",
        "    print(f\"--- {game_count}번째 시도 ---\")\n",
        "\n",
        "    # 2단계: 사용자 입력 받기\n",
        "    user_input = input(\"5자리 숫자를 입력하세요 (예: 12345): \")\n",
        "\n",
        "    # 입력값을 숫자 리스트로 변환\n",
        "    user_guess = []\n",
        "    for digit in user_input:\n",
        "        user_guess.append(int(digit))\n",
        "\n",
        "    print(f\"입력한 숫자: {user_guess}\")\n",
        "\n",
        "    # 3단계: Strike와 Ball 계산\n",
        "    strike = 0\n",
        "    ball = 0\n",
        "\n",
        "    for i in range(5):\n",
        "        if answer[i] == user_guess[i]:\n",
        "            strike += 1\n",
        "        elif user_guess[i] in answer:\n",
        "            ball += 1\n",
        "\n",
        "    # 4단계: 결과 출력\n",
        "    print(f\">>> {strike} strike {ball} ball\")\n",
        "\n",
        "    # 5단계: 게임 종료 조건\n",
        "    if strike == 5:\n",
        "        print(\"🎉 축하합니다! 정답을 맞췄습니다!\")\n",
        "        break\n",
        "\n",
        "    print()  # 한 줄 띄우기\n",
        "\n",
        "print(\"게임 종료!\")\n"
      ],
      "metadata": {
        "colab": {
          "base_uri": "https://localhost:8080/",
          "height": 557
        },
        "id": "qvalRuApQWpV",
        "outputId": "42763b93-ba16-43d0-f8e5-226bd91a6d59"
      },
      "execution_count": 39,
      "outputs": [
        {
          "output_type": "stream",
          "name": "stdout",
          "text": [
            "=== 숫자야구 게임 시작! ===\n",
            "1~9 중에서 서로 다른 5개 숫자를 맞춰보세요!\n",
            "(힌트 - 정답): [4, 7, 3, 2, 8]\n",
            "\n",
            "--- 1번째 시도 ---\n",
            "5자리 숫자를 입력하세요 (예: 12345): 68423\n",
            "입력한 숫자: [6, 8, 4, 2, 3]\n",
            ">>> 1 strike 3 ball\n",
            "\n",
            "--- 2번째 시도 ---\n"
          ]
        },
        {
          "output_type": "error",
          "ename": "KeyboardInterrupt",
          "evalue": "Interrupted by user",
          "traceback": [
            "\u001b[0;31m---------------------------------------------------------------------------\u001b[0m",
            "\u001b[0;31mKeyboardInterrupt\u001b[0m                         Traceback (most recent call last)",
            "\u001b[0;32m/tmp/ipython-input-1135982134.py\u001b[0m in \u001b[0;36m<cell line: 0>\u001b[0;34m()\u001b[0m\n\u001b[1;32m     19\u001b[0m \u001b[0;34m\u001b[0m\u001b[0m\n\u001b[1;32m     20\u001b[0m     \u001b[0;31m# 2단계: 사용자 입력 받기\u001b[0m\u001b[0;34m\u001b[0m\u001b[0;34m\u001b[0m\u001b[0m\n\u001b[0;32m---> 21\u001b[0;31m     \u001b[0muser_input\u001b[0m \u001b[0;34m=\u001b[0m \u001b[0minput\u001b[0m\u001b[0;34m(\u001b[0m\u001b[0;34m\"5자리 숫자를 입력하세요 (예: 12345): \"\u001b[0m\u001b[0;34m)\u001b[0m\u001b[0;34m\u001b[0m\u001b[0;34m\u001b[0m\u001b[0m\n\u001b[0m\u001b[1;32m     22\u001b[0m \u001b[0;34m\u001b[0m\u001b[0m\n\u001b[1;32m     23\u001b[0m     \u001b[0;31m# 입력값을 숫자 리스트로 변환\u001b[0m\u001b[0;34m\u001b[0m\u001b[0;34m\u001b[0m\u001b[0m\n",
            "\u001b[0;32m/usr/local/lib/python3.12/dist-packages/ipykernel/kernelbase.py\u001b[0m in \u001b[0;36mraw_input\u001b[0;34m(self, prompt)\u001b[0m\n\u001b[1;32m   1175\u001b[0m                 \u001b[0;34m\"raw_input was called, but this frontend does not support input requests.\"\u001b[0m\u001b[0;34m\u001b[0m\u001b[0;34m\u001b[0m\u001b[0m\n\u001b[1;32m   1176\u001b[0m             )\n\u001b[0;32m-> 1177\u001b[0;31m         return self._input_request(\n\u001b[0m\u001b[1;32m   1178\u001b[0m             \u001b[0mstr\u001b[0m\u001b[0;34m(\u001b[0m\u001b[0mprompt\u001b[0m\u001b[0;34m)\u001b[0m\u001b[0;34m,\u001b[0m\u001b[0;34m\u001b[0m\u001b[0;34m\u001b[0m\u001b[0m\n\u001b[1;32m   1179\u001b[0m             \u001b[0mself\u001b[0m\u001b[0;34m.\u001b[0m\u001b[0m_parent_ident\u001b[0m\u001b[0;34m[\u001b[0m\u001b[0;34m\"shell\"\u001b[0m\u001b[0;34m]\u001b[0m\u001b[0;34m,\u001b[0m\u001b[0;34m\u001b[0m\u001b[0;34m\u001b[0m\u001b[0m\n",
            "\u001b[0;32m/usr/local/lib/python3.12/dist-packages/ipykernel/kernelbase.py\u001b[0m in \u001b[0;36m_input_request\u001b[0;34m(self, prompt, ident, parent, password)\u001b[0m\n\u001b[1;32m   1217\u001b[0m             \u001b[0;32mexcept\u001b[0m \u001b[0mKeyboardInterrupt\u001b[0m\u001b[0;34m:\u001b[0m\u001b[0;34m\u001b[0m\u001b[0;34m\u001b[0m\u001b[0m\n\u001b[1;32m   1218\u001b[0m                 \u001b[0;31m# re-raise KeyboardInterrupt, to truncate traceback\u001b[0m\u001b[0;34m\u001b[0m\u001b[0;34m\u001b[0m\u001b[0m\n\u001b[0;32m-> 1219\u001b[0;31m                 \u001b[0;32mraise\u001b[0m \u001b[0mKeyboardInterrupt\u001b[0m\u001b[0;34m(\u001b[0m\u001b[0;34m\"Interrupted by user\"\u001b[0m\u001b[0;34m)\u001b[0m \u001b[0;32mfrom\u001b[0m \u001b[0;32mNone\u001b[0m\u001b[0;34m\u001b[0m\u001b[0;34m\u001b[0m\u001b[0m\n\u001b[0m\u001b[1;32m   1220\u001b[0m             \u001b[0;32mexcept\u001b[0m \u001b[0mException\u001b[0m\u001b[0;34m:\u001b[0m\u001b[0;34m\u001b[0m\u001b[0;34m\u001b[0m\u001b[0m\n\u001b[1;32m   1221\u001b[0m                 \u001b[0mself\u001b[0m\u001b[0;34m.\u001b[0m\u001b[0mlog\u001b[0m\u001b[0;34m.\u001b[0m\u001b[0mwarning\u001b[0m\u001b[0;34m(\u001b[0m\u001b[0;34m\"Invalid Message:\"\u001b[0m\u001b[0;34m,\u001b[0m \u001b[0mexc_info\u001b[0m\u001b[0;34m=\u001b[0m\u001b[0;32mTrue\u001b[0m\u001b[0;34m)\u001b[0m\u001b[0;34m\u001b[0m\u001b[0;34m\u001b[0m\u001b[0m\n",
            "\u001b[0;31mKeyboardInterrupt\u001b[0m: Interrupted by user"
          ]
        }
      ]
    }
  ]
}